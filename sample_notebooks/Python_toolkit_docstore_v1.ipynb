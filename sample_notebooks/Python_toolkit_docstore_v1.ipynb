{
 "cells": [
  {
   "cell_type": "markdown",
   "metadata": {},
   "source": [
    "# Python TERMite toolkit - DOCstore"
   ]
  },
  {
   "cell_type": "markdown",
   "metadata": {},
   "source": [
    "This notebook walks you through how to make calls to the DOCstore API\n",
    "and some of the post-processing of the JSON output."
   ]
  },
  {
   "cell_type": "markdown",
   "metadata": {},
   "source": [
    "Import the required sublibrary"
   ]
  },
  {
   "cell_type": "code",
   "execution_count": 1,
   "metadata": {},
   "outputs": [],
   "source": [
    "from termite_toolkit import docstore"
   ]
  },
  {
   "cell_type": "markdown",
   "metadata": {},
   "source": [
    "Point to a docstore server and then fill in the authentication details:"
   ]
  },
  {
   "cell_type": "code",
   "execution_count": 2,
   "metadata": {},
   "outputs": [],
   "source": [
    "docstore_url = 'https://datascience.scibite.com:9090'\n",
    "user = 'scibite_admin'\n",
    "pw= 'weP3vw4ho9ihJka'"
   ]
  },
  {
   "cell_type": "markdown",
   "metadata": {},
   "source": [
    "# Document-level query\n",
    "We can make a document-level query of docstore. In this example we print the docstore id of the first hit for a query on genes HTT and EGFR"
   ]
  },
  {
   "cell_type": "code",
   "execution_count": 3,
   "metadata": {},
   "outputs": [
    {
     "name": "stderr",
     "output_type": "stream",
     "text": [
      "/Users/tiago/opt/anaconda3/lib/python3.7/site-packages/urllib3/connectionpool.py:847: InsecureRequestWarning: Unverified HTTPS request is being made. Adding certificate verification is strongly advised. See: https://urllib3.readthedocs.io/en/latest/advanced-usage.html#ssl-warnings\n",
      "  InsecureRequestWarning)\n"
     ]
    },
    {
     "name": "stdout",
     "output_type": "stream",
     "text": [
      "medline_*_*_*_32702387_1\n"
     ]
    }
   ],
   "source": [
    "docs = docstore.DocStoreRequestBuilder()\n",
    "# specify docstore API endpoint and add authentication\n",
    "docs.set_url(docstore_url)\n",
    "docs.set_basic_auth(username=user, password=pw)\n",
    "# make call to DOCStore Document-level query API\n",
    "docs_json = docs.get_docs(['id:GENE$HTT', 'id:GENE$EGFR'])\n",
    "# print unique id of the first hit\n",
    "uid = docs_json['hits'][0]['uid']\n",
    "print (uid)"
   ]
  },
  {
   "cell_type": "markdown",
   "metadata": {},
   "source": [
    "# Retrieve a specific document\n",
    "We can also use the document lookup by ID to retrieve data for a specific document based on its ID. For the purposes of this demo we use the ID from the previous query. The output of the script below are the authors of this document"
   ]
  },
  {
   "cell_type": "code",
   "execution_count": 4,
   "metadata": {},
   "outputs": [
    {
     "name": "stdout",
     "output_type": "stream",
     "text": [
      "Rolfes, S; Munro, DAD; Lyras, EM; Matute, E; Ouk, K; Harms, C; Böttcher, C; Priller, J\n"
     ]
    },
    {
     "name": "stderr",
     "output_type": "stream",
     "text": [
      "/Users/tiago/opt/anaconda3/lib/python3.7/site-packages/urllib3/connectionpool.py:847: InsecureRequestWarning: Unverified HTTPS request is being made. Adding certificate verification is strongly advised. See: https://urllib3.readthedocs.io/en/latest/advanced-usage.html#ssl-warnings\n",
      "  InsecureRequestWarning)\n"
     ]
    }
   ],
   "source": [
    "docs = docstore.DocStoreRequestBuilder()\n",
    "# specify docstore API endpoint and add authentication if necessary\n",
    "docs.set_url(docstore_url)\n",
    "docs.set_basic_auth(username=user, password=pw)\n",
    "# make call to document lookup by ID API (using the uid of the previous query)\n",
    "docs_jon = docs.get_doc_by_id(uid)\n",
    "# print the authors of the document hit\n",
    "print (docs_json['hits'][0]['authors'])"
   ]
  },
  {
   "cell_type": "markdown",
   "metadata": {},
   "source": [
    "# Document co-occurrence dataframe\n",
    "The script below looks for the occurence of two entities in the same document. While you can retrieve the output in raw json format, the toolkit also enables to produce a dataframe from it."
   ]
  },
  {
   "cell_type": "code",
   "execution_count": 5,
   "metadata": {},
   "outputs": [
    {
     "name": "stderr",
     "output_type": "stream",
     "text": [
      "/Users/tiago/opt/anaconda3/lib/python3.7/site-packages/urllib3/connectionpool.py:847: InsecureRequestWarning: Unverified HTTPS request is being made. Adding certificate verification is strongly advised. See: https://urllib3.readthedocs.io/en/latest/advanced-usage.html#ssl-warnings\n",
      "  InsecureRequestWarning)\n"
     ]
    },
    {
     "data": {
      "text/html": [
       "<div>\n",
       "<style scoped>\n",
       "    .dataframe tbody tr th:only-of-type {\n",
       "        vertical-align: middle;\n",
       "    }\n",
       "\n",
       "    .dataframe tbody tr th {\n",
       "        vertical-align: top;\n",
       "    }\n",
       "\n",
       "    .dataframe thead th {\n",
       "        text-align: right;\n",
       "    }\n",
       "</style>\n",
       "<table border=\"1\" class=\"dataframe\">\n",
       "  <thead>\n",
       "    <tr style=\"text-align: right;\">\n",
       "      <th></th>\n",
       "      <th>document_id</th>\n",
       "      <th>document_date</th>\n",
       "      <th>title</th>\n",
       "      <th>authors</th>\n",
       "      <th>citation</th>\n",
       "    </tr>\n",
       "  </thead>\n",
       "  <tbody>\n",
       "    <tr>\n",
       "      <td>0</td>\n",
       "      <td>25050814</td>\n",
       "      <td>2014-01-01</td>\n",
       "      <td>A unique four-hub protein cluster associates t...</td>\n",
       "      <td>Simeone, P; Trerotola, M; Urbanella, A; Lattan...</td>\n",
       "      <td>PloS one [9] e103030</td>\n",
       "    </tr>\n",
       "    <tr>\n",
       "      <td>1</td>\n",
       "      <td>22974559</td>\n",
       "      <td>2013-01-01</td>\n",
       "      <td>Mutant huntingtin regulates EGF receptor fate ...</td>\n",
       "      <td>Melone, MA; Calarco, A; Petillo, O; Margarucci...</td>\n",
       "      <td>Biochimica et biophysica acta [1832] 105-13</td>\n",
       "    </tr>\n",
       "    <tr>\n",
       "      <td>2</td>\n",
       "      <td>24116161</td>\n",
       "      <td>2013-01-01</td>\n",
       "      <td>Grb2 is regulated by foxd3 and has roles in pr...</td>\n",
       "      <td>Baksi, S; Jana, NR; Bhattacharyya, NP; Mukhopa...</td>\n",
       "      <td>PloS one [8] e76792</td>\n",
       "    </tr>\n",
       "    <tr>\n",
       "      <td>3</td>\n",
       "      <td>8205025</td>\n",
       "      <td>2012-01-03</td>\n",
       "      <td>Huntington Interacting Protein-1( HIP1 ) and t...</td>\n",
       "      <td>ROSS, THEODORA S</td>\n",
       "      <td></td>\n",
       "    </tr>\n",
       "    <tr>\n",
       "      <td>4</td>\n",
       "      <td>20501595</td>\n",
       "      <td>2010-06-01</td>\n",
       "      <td>Paired and LIM class homeodomain proteins coor...</td>\n",
       "      <td>Van Buskirk, C; Sternberg, PW</td>\n",
       "      <td>Development (Cambridge, England) [137] 2065-74</td>\n",
       "    </tr>\n",
       "    <tr>\n",
       "      <td>5</td>\n",
       "      <td>7756581</td>\n",
       "      <td>2009-12-14</td>\n",
       "      <td>Huntington Interacting Protein-1( HIP1 ) and t...</td>\n",
       "      <td>ROSS, THEODORA S</td>\n",
       "      <td></td>\n",
       "    </tr>\n",
       "    <tr>\n",
       "      <td>6</td>\n",
       "      <td>7915876</td>\n",
       "      <td>2009-09-03</td>\n",
       "      <td>Huntington Interacting Protein-1( HIP1 ) and t...</td>\n",
       "      <td>ROSS, THEODORA S</td>\n",
       "      <td></td>\n",
       "    </tr>\n",
       "    <tr>\n",
       "      <td>7</td>\n",
       "      <td>7556753</td>\n",
       "      <td>2009-01-08</td>\n",
       "      <td>Huntington Interacting Protein-1( HIP1 ) and t...</td>\n",
       "      <td>ROSS, THEODORA S</td>\n",
       "      <td></td>\n",
       "    </tr>\n",
       "    <tr>\n",
       "      <td>8</td>\n",
       "      <td>17937893</td>\n",
       "      <td>2007-10-01</td>\n",
       "      <td>[ Astrocytes in Huntington's chorea : accompli...</td>\n",
       "      <td>Liévens, JC; Birman, S</td>\n",
       "      <td>Medecine sciences : M/S [23] 845-9</td>\n",
       "    </tr>\n",
       "    <tr>\n",
       "      <td>9</td>\n",
       "      <td>17550941</td>\n",
       "      <td>2007-08-01</td>\n",
       "      <td>Intersectin enhances huntingtin aggregation an...</td>\n",
       "      <td>Scappini, E; Koh, TW; Martin, NP; O'Bryan, JP</td>\n",
       "      <td>Human molecular genetics [16] 1862-71</td>\n",
       "    </tr>\n",
       "  </tbody>\n",
       "</table>\n",
       "</div>"
      ],
      "text/plain": [
       "  document_id document_date  \\\n",
       "0    25050814    2014-01-01   \n",
       "1    22974559    2013-01-01   \n",
       "2    24116161    2013-01-01   \n",
       "3     8205025    2012-01-03   \n",
       "4    20501595    2010-06-01   \n",
       "5     7756581    2009-12-14   \n",
       "6     7915876    2009-09-03   \n",
       "7     7556753    2009-01-08   \n",
       "8    17937893    2007-10-01   \n",
       "9    17550941    2007-08-01   \n",
       "\n",
       "                                               title  \\\n",
       "0  A unique four-hub protein cluster associates t...   \n",
       "1  Mutant huntingtin regulates EGF receptor fate ...   \n",
       "2  Grb2 is regulated by foxd3 and has roles in pr...   \n",
       "3  Huntington Interacting Protein-1( HIP1 ) and t...   \n",
       "4  Paired and LIM class homeodomain proteins coor...   \n",
       "5  Huntington Interacting Protein-1( HIP1 ) and t...   \n",
       "6  Huntington Interacting Protein-1( HIP1 ) and t...   \n",
       "7  Huntington Interacting Protein-1( HIP1 ) and t...   \n",
       "8  [ Astrocytes in Huntington's chorea : accompli...   \n",
       "9  Intersectin enhances huntingtin aggregation an...   \n",
       "\n",
       "                                             authors  \\\n",
       "0  Simeone, P; Trerotola, M; Urbanella, A; Lattan...   \n",
       "1  Melone, MA; Calarco, A; Petillo, O; Margarucci...   \n",
       "2  Baksi, S; Jana, NR; Bhattacharyya, NP; Mukhopa...   \n",
       "3                                   ROSS, THEODORA S   \n",
       "4                      Van Buskirk, C; Sternberg, PW   \n",
       "5                                   ROSS, THEODORA S   \n",
       "6                                   ROSS, THEODORA S   \n",
       "7                                   ROSS, THEODORA S   \n",
       "8                             Liévens, JC; Birman, S   \n",
       "9      Scappini, E; Koh, TW; Martin, NP; O'Bryan, JP   \n",
       "\n",
       "                                         citation  \n",
       "0                            PloS one [9] e103030  \n",
       "1     Biochimica et biophysica acta [1832] 105-13  \n",
       "2                             PloS one [8] e76792  \n",
       "3                                                  \n",
       "4  Development (Cambridge, England) [137] 2065-74  \n",
       "5                                                  \n",
       "6                                                  \n",
       "7                                                  \n",
       "8              Medecine sciences : M/S [23] 845-9  \n",
       "9           Human molecular genetics [16] 1862-71  "
      ]
     },
     "execution_count": 5,
     "metadata": {},
     "output_type": "execute_result"
    }
   ],
   "source": [
    "docs = docstore.DocStoreRequestBuilder()\n",
    "# specify docstore API endpoint and add authentication if necessary\n",
    "docs.set_url(docstore_url)\n",
    "docs.set_basic_auth(username=user, password=pw)\n",
    "# make call to DOCStore Document co-occurence API\n",
    "docs_json = docs.get_dcc_docs(['id:GENE$HTT', 'id:GENE$EGFR'])\n",
    "# convert json to df\n",
    "df = docstore.get_docstore_dcc_df(docs_json)\n",
    "# print titles of hits\n",
    "df"
   ]
  },
  {
   "cell_type": "markdown",
   "metadata": {},
   "source": [
    "# Sentence co-occurrence"
   ]
  },
  {
   "cell_type": "markdown",
   "metadata": {},
   "source": [
    "In this case we're looking to find documents where the two entities are mentioned in the same sentence. The output of the script below is a dataframe with one co-occurence sentence per row."
   ]
  },
  {
   "cell_type": "code",
   "execution_count": 6,
   "metadata": {},
   "outputs": [
    {
     "name": "stderr",
     "output_type": "stream",
     "text": [
      "/Users/tiago/opt/anaconda3/lib/python3.7/site-packages/urllib3/connectionpool.py:847: InsecureRequestWarning: Unverified HTTPS request is being made. Adding certificate verification is strongly advised. See: https://urllib3.readthedocs.io/en/latest/advanced-usage.html#ssl-warnings\n",
      "  InsecureRequestWarning)\n"
     ]
    },
    {
     "data": {
      "text/html": [
       "<div>\n",
       "<style scoped>\n",
       "    .dataframe tbody tr th:only-of-type {\n",
       "        vertical-align: middle;\n",
       "    }\n",
       "\n",
       "    .dataframe tbody tr th {\n",
       "        vertical-align: top;\n",
       "    }\n",
       "\n",
       "    .dataframe thead th {\n",
       "        text-align: right;\n",
       "    }\n",
       "</style>\n",
       "<table border=\"1\" class=\"dataframe\">\n",
       "  <thead>\n",
       "    <tr style=\"text-align: right;\">\n",
       "      <th></th>\n",
       "      <th>document_id</th>\n",
       "      <th>document_date</th>\n",
       "      <th>scc_sentence</th>\n",
       "    </tr>\n",
       "  </thead>\n",
       "  <tbody>\n",
       "    <tr>\n",
       "      <td>0</td>\n",
       "      <td>22974559</td>\n",
       "      <td>2013-01-01</td>\n",
       "      <td>Mutant huntingtin regulates EGF receptor fate ...</td>\n",
       "    </tr>\n",
       "    <tr>\n",
       "      <td>1</td>\n",
       "      <td>22974559</td>\n",
       "      <td>2013-01-01</td>\n",
       "      <td>We found that polyQ-htt controls EGFR degradat...</td>\n",
       "    </tr>\n",
       "    <tr>\n",
       "      <td>2</td>\n",
       "      <td>24116161</td>\n",
       "      <td>2013-01-01</td>\n",
       "      <td>Grb2 is also known to interact with Htt, depen...</td>\n",
       "    </tr>\n",
       "    <tr>\n",
       "      <td>3</td>\n",
       "      <td>9079622</td>\n",
       "      <td>1997-03-28</td>\n",
       "      <td>SH3 domain-dependent association of huntingtin...</td>\n",
       "    </tr>\n",
       "  </tbody>\n",
       "</table>\n",
       "</div>"
      ],
      "text/plain": [
       "  document_id document_date                                       scc_sentence\n",
       "0    22974559    2013-01-01  Mutant huntingtin regulates EGF receptor fate ...\n",
       "1    22974559    2013-01-01  We found that polyQ-htt controls EGFR degradat...\n",
       "2    24116161    2013-01-01  Grb2 is also known to interact with Htt, depen...\n",
       "3     9079622    1997-03-28  SH3 domain-dependent association of huntingtin..."
      ]
     },
     "execution_count": 6,
     "metadata": {},
     "output_type": "execute_result"
    }
   ],
   "source": [
    "docs = docstore.DocStoreRequestBuilder()\n",
    "# specify docstore API endpoint and add authentication if necessary\n",
    "docs.set_url(docstore_url)\n",
    "docs.set_basic_auth(username=user, password=pw)\n",
    "# make call to DOCStore sentence co-occurence API\n",
    "docs_json = docs.get_scc_docs(['id:GENE$HTT', 'id:GENE$EGFR'])\n",
    "# convert json to df\n",
    "df = docstore.get_docstore_scc_df(docs_json)\n",
    "# print doc_ids of hits\n",
    "df"
   ]
  },
  {
   "cell_type": "markdown",
   "metadata": {},
   "source": [
    "# Entity lookup\n",
    "There is also an API call to lookup entity synonyms. The output gives information such as entity id, type and names. Some words may have more than one synonym. In those cases the json output will include all the possible options."
   ]
  },
  {
   "cell_type": "code",
   "execution_count": 7,
   "metadata": {},
   "outputs": [
    {
     "name": "stdout",
     "output_type": "stream",
     "text": [
      "{'ids': [{'id': 'SHH', 'type': 'GENE', 'name': 'sonic hedgehog'}]}\n"
     ]
    },
    {
     "name": "stderr",
     "output_type": "stream",
     "text": [
      "/Users/tiago/opt/anaconda3/lib/python3.7/site-packages/urllib3/connectionpool.py:847: InsecureRequestWarning: Unverified HTTPS request is being made. Adding certificate verification is strongly advised. See: https://urllib3.readthedocs.io/en/latest/advanced-usage.html#ssl-warnings\n",
      "  InsecureRequestWarning)\n"
     ]
    }
   ],
   "source": [
    "docs = docstore.DocStoreRequestBuilder()\n",
    "# specify docstore API endpoint and add authentication if necessary\n",
    "docs.set_url(docstore_url)\n",
    "docs.set_basic_auth(username=user, password=pw)\n",
    "# returns json with list of synonyms and their IDs\n",
    "synonym = 'hedgehog'\n",
    "entity_type = 'GENE'\n",
    "print(docs.entity_lookup_id(synonym,entity_type))"
   ]
  }
 ],
 "metadata": {
  "kernelspec": {
   "display_name": "Python 3",
   "language": "python",
   "name": "python3"
  },
  "language_info": {
   "codemirror_mode": {
    "name": "ipython",
    "version": 3
   },
   "file_extension": ".py",
   "mimetype": "text/x-python",
   "name": "python",
   "nbconvert_exporter": "python",
   "pygments_lexer": "ipython3",
   "version": "3.7.4"
  }
 },
 "nbformat": 4,
 "nbformat_minor": 2
}
