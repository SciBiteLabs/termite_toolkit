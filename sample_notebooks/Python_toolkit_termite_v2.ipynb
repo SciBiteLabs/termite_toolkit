{
 "cells": [
  {
   "cell_type": "markdown",
   "metadata": {},
   "source": [
    "# Python TERMite toolkit - TERMite"
   ]
  },
  {
   "cell_type": "markdown",
   "metadata": {},
   "source": [
    "We provide a Python library for making calls to our NER engine, TERMite, as well as the TExpress module for defining more complex semantic patterns. The library also enables post-processing of the JSON returned from such requests. This notebook gives you the rundown on how to make a call to TERMite and some of the possible post-processing of the JSON output."
   ]
  },
  {
   "cell_type": "markdown",
   "metadata": {},
   "source": [
    "## Install or update Python toolkit¶"
   ]
  },
  {
   "cell_type": "markdown",
   "metadata": {},
   "source": [
    "The Python toolkit can simply be installed by running the following command in the terminal:\n",
    "```\n",
    "pip3 install termite_toolkit\n",
    "```\n",
    "If you already have the toolkit install make sure you have the latest version:\n",
    "```\n",
    "pip3 install termite_toolkit --upgrade\n",
    "```"
   ]
  },
  {
   "cell_type": "markdown",
   "metadata": {},
   "source": [
    "## Example call to TERMite"
   ]
  },
  {
   "cell_type": "markdown",
   "metadata": {},
   "source": [
    "Making a call to TERMite with the toolkit is easy: simply ```import termite``` from the ```termite_toolkit``` and make a call.\n",
    "\n",
    "A call is made up of:\n",
    "* the TERMite API endpoint\n",
    "* the entities you wish to use for annotation\n",
    "* a TERMite request\n",
    "* request execution\n",
    "\n",
    "Save the TERMite call in a python script and simply run ```python ExampleCall.py``` in the terminal."
   ]
  },
  {
   "cell_type": "markdown",
   "metadata": {},
   "source": [
    "This is some example text we can make a TERMite call on"
   ]
  },
  {
   "cell_type": "code",
   "execution_count": 4,
   "metadata": {},
   "outputs": [],
   "source": [
    "input_text = \"The data in Table 2, Row 2 suggest that Telmisartan might be useful to prevent colon cancer (note that Clopidogrel is in both the Drug and Control arm, so we did not investigate Clopidogrel further). Recent cell-based studies reported that Telmisartan exerts anti-tumor effects by activating peroxisome proliferator-activated receptor-γ (Li et al., 2014; Pu, Zhu & Kong, 2016; Wu et al., 2016b). The algorithm presented here provides the first evidence from a randomized clinical trial indicating that Telmisartan may be viable as a repurposed prevention for colon cancer. Phylloquinone (Table 2, Row 4) is a vitamin (vitamin K1) supplement rather than a prescription drug. K vitamins + sorafenib induce apoptosis in human pancreatic cancer cell lines (Wei, Wang & Carr, 2010). A prospective cohort analysis found that individuals who increased their intake of dietary phylloquinone might have a lower risk of cancer than those who did not (Juanola-Falgarona et al., 2014). The data from the randomized trial in Table 2 suggest that vitamin K1 might actually help prevent cancer (OR = 0.27, 95% CI [0.07–0.98]). The potential cancer prevention by vitamin K1 is especially intriguing because one can get more than 1,000% daily value of vitamin K1 by simply eating one cup of cooked kale or spinach (https://www.healthaliciousness.com/articles/food-sources-of-vitamin-k.php).\""
   ]
  },
  {
   "cell_type": "markdown",
   "metadata": {},
   "source": [
    "Below is an example TERMite call. The API endpoint specified is TERMite's default endpoint. Here we just print the TERMite result to the screen. "
   ]
  },
  {
   "cell_type": "code",
   "execution_count": 12,
   "metadata": {},
   "outputs": [
    {
     "name": "stdout",
     "output_type": "stream",
     "text": [
      "{'RESP_META': {'CONID': '127.0.0.1/68',\n",
      "               'ENTITIES_LIMIT': '[DRUG, INDICATION]',\n",
      "               'HTTP_CODE': '200',\n",
      "               'INPUT_SIZE': 1373,\n",
      "               'JSON_PRODUCER': 'EFFICIENT',\n",
      "               'REQID': 'd70829d1-bc8f-44ce-a2ee-39a19321a43a-16391',\n",
      "               'RUNTIME_OPTIONS': {'_termitesys.exetermite': 'true',\n",
      "                                   '_termitesys.exetexpress': 'false',\n",
      "                                   'rejectAmbig': 'false',\n",
      "                                   'subsume': 'true'},\n",
      "               'TERMITE_RUNTIME': 'default',\n",
      "               'TERMITE_VERS': '6.3.17',\n",
      "               'Timing_msec_TOTAL': '1'},\n",
      " 'RESP_PAYLOAD': {'DRUG': [{...}, {...}, {...}, {...}],\n",
      "                  'INDICATION': [{...}, {...}, {...}, {...}]},\n",
      " 'RESP_WARNINGS': None}\n"
     ]
    }
   ],
   "source": [
    "from pprint import pprint\n",
    "from termite_toolkit import termite\n",
    "\n",
    "# specify termite API endpoint\n",
    "termite_home = \"http://localhost:9090/termite\"\n",
    "\n",
    "# specify entities to annotate\n",
    "entities = \"DRUG,INDICATION\"\n",
    "\n",
    "# initialise a request builder\n",
    "t = termite.TermiteRequestBuilder()\n",
    "\n",
    "# add items to your TERMite request\n",
    "t.set_url(termite_home)\n",
    "t.set_text(input_text)  # this is where we send the text to be annotated\n",
    "t.set_entities(entities)  # you must specify the vocab neams you would like to use for annotation\n",
    "t.set_subsume(True)\n",
    "t.set_input_format(\"txt\")\n",
    "t.set_output_format(\"json\")  # you can try different output formats here e.g. \"tsv\"\n",
    "t.set_reject_ambiguous(False)\n",
    "\n",
    "\n",
    "# once the query object has been built, execute the TERMite request\n",
    "termite_response = t.execute(display_request=False)\n",
    "\n",
    "pprint(termite_response, depth = 3)"
   ]
  },
  {
   "cell_type": "markdown",
   "metadata": {},
   "source": [
    "To understand the JSON output of TERMite results [click here](https://help.scibite.com/a/solutions/articles/179705-anatomy-of-a-termite-hit).\n",
    "\n",
    "Use ```help(termite.TermiteRequestBuilder)``` to view the documentation to see the available functions of ```TermiteRequestBuilder()``` and how they can be used to set the runtime options."
   ]
  },
  {
   "cell_type": "markdown",
   "metadata": {},
   "source": [
    "Once familiar with making a call in Python you'll be able to make calls on files and using a python dict object of TERMite options (these can be viewed on your TERMite server homepage), like the example below:\n"
   ]
  },
  {
   "cell_type": "code",
   "execution_count": 4,
   "metadata": {},
   "outputs": [],
   "source": [
    "from pprint import pprint\n",
    "from termite_toolkit import termite\n",
    "import sys\n",
    "import os\n",
    "\n",
    "# specify termite API endpoint\n",
    "termite_home = \"http://localhost:9090/termite\"\n",
    "\n",
    "# input file\n",
    "parentDir = os.path.dirname(os.path.dirname(os.path.abspath(\"__file__\")))  # this line relatively locates the parent directory\n",
    "input_file = os.path.join(parentDir, 'sample_scripts/medline_sample.zip')  \n",
    "\n",
    "# TERMite options\n",
    "options = {\"format\": \"medline.xml\", \"output\": \"json\", \"entities\": \"DRUG,GENE,INDICATION\"}\n",
    "\n",
    "# TERMite call as JSON result\n",
    "termite_json_response = termite.annotate_files(termite_home, input_file, options)"
   ]
  },
  {
   "cell_type": "markdown",
   "metadata": {},
   "source": [
    "## TERMite toolkit library"
   ]
  },
  {
   "cell_type": "markdown",
   "metadata": {},
   "source": [
    "The standard JSON output is gives the most rich output, but this isn't the most human friendly.\n",
    "\n",
    "The TERMite toolkit has many built-in functions for parsing outputs. For example, ```get_entitiy_hits_from_json()``` takes a JSON TERMite response and returns a summary of the hits with additional filtering rules applied. The returned object is a python dict object indexed by entity ID, with associated frequency counts.\n",
    "\n",
    "Below is an example of post-processing of the results from our first TERMite example call; we've filtered the TERMite hits so that we're only looking at DRUG hits."
   ]
  },
  {
   "cell_type": "code",
   "execution_count": 5,
   "metadata": {
    "scrolled": true
   },
   "outputs": [
    {
     "name": "stdout",
     "output_type": "stream",
     "text": [
      "{'DRUG$CHEMBL1017': {'doc_count': 1,\n",
      "                     'doc_id': [''],\n",
      "                     'hit_count': 3,\n",
      "                     'id': 'CHEMBL1017',\n",
      "                     'max_relevance_score': 4,\n",
      "                     'name': 'Telmisartan',\n",
      "                     'type': 'DRUG'},\n",
      " 'DRUG$CHEMBL1336': {'doc_count': 1,\n",
      "                     'doc_id': [''],\n",
      "                     'hit_count': 1,\n",
      "                     'id': 'CHEMBL1336',\n",
      "                     'max_relevance_score': 1,\n",
      "                     'name': 'BAY43-9006',\n",
      "                     'type': 'DRUG'},\n",
      " 'DRUG$CHEMBL1550': {'doc_count': 1,\n",
      "                     'doc_id': [''],\n",
      "                     'hit_count': 6,\n",
      "                     'id': 'CHEMBL1550',\n",
      "                     'max_relevance_score': 4,\n",
      "                     'name': 'Phytomenadione',\n",
      "                     'type': 'DRUG'},\n",
      " 'DRUG$CHEMBL1771': {'doc_count': 1,\n",
      "                     'doc_id': [''],\n",
      "                     'hit_count': 2,\n",
      "                     'id': 'CHEMBL1771',\n",
      "                     'max_relevance_score': 1,\n",
      "                     'name': 'Clopidogrel Bisulfate',\n",
      "                     'type': 'DRUG'}}\n"
     ]
    }
   ],
   "source": [
    "filtered_hits = termite.get_entity_hits_from_json(termite_response, 'DRUG', reject_ambig=False)\n",
    "\n",
    "pprint(filtered_hits)"
   ]
  },
  {
   "cell_type": "markdown",
   "metadata": {},
   "source": [
    "We've also added functionality to convert the json and doc.JSONx outputs into a pandas dataframe, either by individual hits or grouped by TERMite ID."
   ]
  },
  {
   "cell_type": "code",
   "execution_count": 6,
   "metadata": {},
   "outputs": [
    {
     "data": {
      "text/html": [
       "<div>\n",
       "<style scoped>\n",
       "    .dataframe tbody tr th:only-of-type {\n",
       "        vertical-align: middle;\n",
       "    }\n",
       "\n",
       "    .dataframe tbody tr th {\n",
       "        vertical-align: top;\n",
       "    }\n",
       "\n",
       "    .dataframe thead th {\n",
       "        text-align: right;\n",
       "    }\n",
       "</style>\n",
       "<table border=\"1\" class=\"dataframe\">\n",
       "  <thead>\n",
       "    <tr style=\"text-align: right;\">\n",
       "      <th></th>\n",
       "      <th>docID</th>\n",
       "      <th>entityType</th>\n",
       "      <th>hitID</th>\n",
       "      <th>name</th>\n",
       "      <th>score</th>\n",
       "      <th>realSynList</th>\n",
       "      <th>totnosyns</th>\n",
       "      <th>nonambigsyns</th>\n",
       "      <th>frag_vector_array</th>\n",
       "      <th>hitCount</th>\n",
       "    </tr>\n",
       "  </thead>\n",
       "  <tbody>\n",
       "    <tr>\n",
       "      <th>0</th>\n",
       "      <td>Termite_Doc_d70829d1-bc8f-44ce-a2ee-39a19321a4...</td>\n",
       "      <td>DRUG</td>\n",
       "      <td>CHEMBL1017</td>\n",
       "      <td>Telmisartan</td>\n",
       "      <td>4</td>\n",
       "      <td>[Telmisartan, Telmisartan, Telmisartan]</td>\n",
       "      <td>1</td>\n",
       "      <td>1</td>\n",
       "      <td>[1#le 2, Row 2 suggest that {!Telmisartan!} mi...</td>\n",
       "      <td>3</td>\n",
       "    </tr>\n",
       "    <tr>\n",
       "      <th>1</th>\n",
       "      <td>Termite_Doc_d70829d1-bc8f-44ce-a2ee-39a19321a4...</td>\n",
       "      <td>DRUG</td>\n",
       "      <td>CHEMBL1336</td>\n",
       "      <td>BAY43-9006</td>\n",
       "      <td>1</td>\n",
       "      <td>[sorafenib]</td>\n",
       "      <td>1</td>\n",
       "      <td>1</td>\n",
       "      <td>[5#K vitamins + {!sorafenib!} induce apoptosis...</td>\n",
       "      <td>1</td>\n",
       "    </tr>\n",
       "    <tr>\n",
       "      <th>2</th>\n",
       "      <td>Termite_Doc_d70829d1-bc8f-44ce-a2ee-39a19321a4...</td>\n",
       "      <td>DRUG</td>\n",
       "      <td>CHEMBL1550</td>\n",
       "      <td>Phytomenadione</td>\n",
       "      <td>4</td>\n",
       "      <td>[Phylloquinone, vitamin K1, phylloquinone, vit...</td>\n",
       "      <td>2</td>\n",
       "      <td>2</td>\n",
       "      <td>[4#{!Phylloquinone!} (Table 2, Row 4) is a vi,...</td>\n",
       "      <td>6</td>\n",
       "    </tr>\n",
       "    <tr>\n",
       "      <th>3</th>\n",
       "      <td>Termite_Doc_d70829d1-bc8f-44ce-a2ee-39a19321a4...</td>\n",
       "      <td>DRUG</td>\n",
       "      <td>CHEMBL1771</td>\n",
       "      <td>Clopidogrel Bisulfate</td>\n",
       "      <td>1</td>\n",
       "      <td>[Clopidogrel, Clopidogrel]</td>\n",
       "      <td>1</td>\n",
       "      <td>1</td>\n",
       "      <td>[1#colon cancer (note that {!Clopidogrel!} is ...</td>\n",
       "      <td>2</td>\n",
       "    </tr>\n",
       "    <tr>\n",
       "      <th>4</th>\n",
       "      <td>Termite_Doc_d70829d1-bc8f-44ce-a2ee-39a19321a4...</td>\n",
       "      <td>INDICATION</td>\n",
       "      <td>D010190</td>\n",
       "      <td>Pancreatic Neoplasms</td>\n",
       "      <td>1</td>\n",
       "      <td>[pancreatic cancer]</td>\n",
       "      <td>1</td>\n",
       "      <td>1</td>\n",
       "      <td>[5#nduce apoptosis in human {!pancreatic cance...</td>\n",
       "      <td>1</td>\n",
       "    </tr>\n",
       "  </tbody>\n",
       "</table>\n",
       "</div>"
      ],
      "text/plain": [
       "                                               docID  entityType       hitID  \\\n",
       "0  Termite_Doc_d70829d1-bc8f-44ce-a2ee-39a19321a4...        DRUG  CHEMBL1017   \n",
       "1  Termite_Doc_d70829d1-bc8f-44ce-a2ee-39a19321a4...        DRUG  CHEMBL1336   \n",
       "2  Termite_Doc_d70829d1-bc8f-44ce-a2ee-39a19321a4...        DRUG  CHEMBL1550   \n",
       "3  Termite_Doc_d70829d1-bc8f-44ce-a2ee-39a19321a4...        DRUG  CHEMBL1771   \n",
       "4  Termite_Doc_d70829d1-bc8f-44ce-a2ee-39a19321a4...  INDICATION     D010190   \n",
       "\n",
       "                    name  score  \\\n",
       "0            Telmisartan      4   \n",
       "1             BAY43-9006      1   \n",
       "2         Phytomenadione      4   \n",
       "3  Clopidogrel Bisulfate      1   \n",
       "4   Pancreatic Neoplasms      1   \n",
       "\n",
       "                                         realSynList  totnosyns  nonambigsyns  \\\n",
       "0            [Telmisartan, Telmisartan, Telmisartan]          1             1   \n",
       "1                                        [sorafenib]          1             1   \n",
       "2  [Phylloquinone, vitamin K1, phylloquinone, vit...          2             2   \n",
       "3                         [Clopidogrel, Clopidogrel]          1             1   \n",
       "4                                [pancreatic cancer]          1             1   \n",
       "\n",
       "                                   frag_vector_array  hitCount  \n",
       "0  [1#le 2, Row 2 suggest that {!Telmisartan!} mi...         3  \n",
       "1  [5#K vitamins + {!sorafenib!} induce apoptosis...         1  \n",
       "2  [4#{!Phylloquinone!} (Table 2, Row 4) is a vi,...         6  \n",
       "3  [1#colon cancer (note that {!Clopidogrel!} is ...         2  \n",
       "4  [5#nduce apoptosis in human {!pancreatic cance...         1  "
      ]
     },
     "execution_count": 6,
     "metadata": {},
     "output_type": "execute_result"
    }
   ],
   "source": [
    "termite.get_termite_dataframe(termite_response, reject_ambig = False).head()"
   ]
  },
  {
   "cell_type": "code",
   "execution_count": 7,
   "metadata": {},
   "outputs": [
    {
     "data": {
      "text/html": [
       "<div>\n",
       "<style scoped>\n",
       "    .dataframe tbody tr th:only-of-type {\n",
       "        vertical-align: middle;\n",
       "    }\n",
       "\n",
       "    .dataframe tbody tr th {\n",
       "        vertical-align: top;\n",
       "    }\n",
       "\n",
       "    .dataframe thead th {\n",
       "        text-align: right;\n",
       "    }\n",
       "</style>\n",
       "<table border=\"1\" class=\"dataframe\">\n",
       "  <thead>\n",
       "    <tr style=\"text-align: right;\">\n",
       "      <th></th>\n",
       "      <th>doc_count</th>\n",
       "      <th>doc_id</th>\n",
       "      <th>hit_count</th>\n",
       "      <th>id</th>\n",
       "      <th>max_relevance_score</th>\n",
       "      <th>name</th>\n",
       "      <th>type</th>\n",
       "    </tr>\n",
       "  </thead>\n",
       "  <tbody>\n",
       "    <tr>\n",
       "      <th>DRUG$CHEMBL38</th>\n",
       "      <td>1</td>\n",
       "      <td>[25987350]</td>\n",
       "      <td>5</td>\n",
       "      <td>CHEMBL38</td>\n",
       "      <td>5</td>\n",
       "      <td>Tretinoin</td>\n",
       "      <td>DRUG</td>\n",
       "    </tr>\n",
       "    <tr>\n",
       "      <th>GENE$CD4</th>\n",
       "      <td>9</td>\n",
       "      <td>[25987350, 24793818, 23523417, 22995775, 23021...</td>\n",
       "      <td>38</td>\n",
       "      <td>CD4</td>\n",
       "      <td>5</td>\n",
       "      <td>CD4 molecule</td>\n",
       "      <td>GENE</td>\n",
       "    </tr>\n",
       "    <tr>\n",
       "      <th>GENE$TGFB1</th>\n",
       "      <td>7</td>\n",
       "      <td>[25987350, 22578910, 23403039, 22974822, 23643...</td>\n",
       "      <td>22</td>\n",
       "      <td>TGFB1</td>\n",
       "      <td>5</td>\n",
       "      <td>transforming growth factor beta 1</td>\n",
       "      <td>GENE</td>\n",
       "    </tr>\n",
       "    <tr>\n",
       "      <th>GENE$IL2RA</th>\n",
       "      <td>4</td>\n",
       "      <td>[25987350, 23643066, 26589955, 24411923]</td>\n",
       "      <td>9</td>\n",
       "      <td>IL2RA</td>\n",
       "      <td>4</td>\n",
       "      <td>interleukin 2 receptor subunit alpha</td>\n",
       "      <td>GENE</td>\n",
       "    </tr>\n",
       "    <tr>\n",
       "      <th>GENE$FOXP3</th>\n",
       "      <td>5</td>\n",
       "      <td>[25987350, 23523417, 23643066, 26589955, 24411...</td>\n",
       "      <td>10</td>\n",
       "      <td>FOXP3</td>\n",
       "      <td>5</td>\n",
       "      <td>forkhead box P3</td>\n",
       "      <td>GENE</td>\n",
       "    </tr>\n",
       "  </tbody>\n",
       "</table>\n",
       "</div>"
      ],
      "text/plain": [
       "              doc_count                                             doc_id  \\\n",
       "DRUG$CHEMBL38         1                                         [25987350]   \n",
       "GENE$CD4              9  [25987350, 24793818, 23523417, 22995775, 23021...   \n",
       "GENE$TGFB1            7  [25987350, 22578910, 23403039, 22974822, 23643...   \n",
       "GENE$IL2RA            4           [25987350, 23643066, 26589955, 24411923]   \n",
       "GENE$FOXP3            5  [25987350, 23523417, 23643066, 26589955, 24411...   \n",
       "\n",
       "              hit_count        id max_relevance_score  \\\n",
       "DRUG$CHEMBL38         5  CHEMBL38                   5   \n",
       "GENE$CD4             38       CD4                   5   \n",
       "GENE$TGFB1           22     TGFB1                   5   \n",
       "GENE$IL2RA            9     IL2RA                   4   \n",
       "GENE$FOXP3           10     FOXP3                   5   \n",
       "\n",
       "                                               name  type  \n",
       "DRUG$CHEMBL38                             Tretinoin  DRUG  \n",
       "GENE$CD4                               CD4 molecule  GENE  \n",
       "GENE$TGFB1        transforming growth factor beta 1  GENE  \n",
       "GENE$IL2RA     interleukin 2 receptor subunit alpha  GENE  \n",
       "GENE$FOXP3                          forkhead box P3  GENE  "
      ]
     },
     "execution_count": 7,
     "metadata": {},
     "output_type": "execute_result"
    }
   ],
   "source": [
    "termite.all_entities_df(termite_json_response).head()"
   ]
  },
  {
   "cell_type": "markdown",
   "metadata": {},
   "source": [
    "We've made it easier to identify which VOCabs have hits within the TERMite input, their frequencies, and the most frequent hits:"
   ]
  },
  {
   "cell_type": "code",
   "execution_count": 8,
   "metadata": {},
   "outputs": [
    {
     "data": {
      "text/plain": [
       "['DRUG', 'GENE', 'INDICATION']"
      ]
     },
     "execution_count": 8,
     "metadata": {},
     "output_type": "execute_result"
    }
   ],
   "source": [
    "termite.all_entities(termite_json_response)"
   ]
  },
  {
   "cell_type": "code",
   "execution_count": 9,
   "metadata": {},
   "outputs": [
    {
     "data": {
      "text/html": [
       "<div>\n",
       "<style scoped>\n",
       "    .dataframe tbody tr th:only-of-type {\n",
       "        vertical-align: middle;\n",
       "    }\n",
       "\n",
       "    .dataframe tbody tr th {\n",
       "        vertical-align: top;\n",
       "    }\n",
       "\n",
       "    .dataframe thead th {\n",
       "        text-align: right;\n",
       "    }\n",
       "</style>\n",
       "<table border=\"1\" class=\"dataframe\">\n",
       "  <thead>\n",
       "    <tr style=\"text-align: right;\">\n",
       "      <th></th>\n",
       "      <th>entityType</th>\n",
       "    </tr>\n",
       "  </thead>\n",
       "  <tbody>\n",
       "    <tr>\n",
       "      <th>INDICATION</th>\n",
       "      <td>3168</td>\n",
       "    </tr>\n",
       "    <tr>\n",
       "      <th>DRUG</th>\n",
       "      <td>573</td>\n",
       "    </tr>\n",
       "    <tr>\n",
       "      <th>GENE</th>\n",
       "      <td>530</td>\n",
       "    </tr>\n",
       "  </tbody>\n",
       "</table>\n",
       "</div>"
      ],
      "text/plain": [
       "            entityType\n",
       "INDICATION        3168\n",
       "DRUG               573\n",
       "GENE               530"
      ]
     },
     "execution_count": 9,
     "metadata": {},
     "output_type": "execute_result"
    }
   ],
   "source": [
    "termite.entity_freq(termite_json_response)"
   ]
  },
  {
   "cell_type": "code",
   "execution_count": 16,
   "metadata": {},
   "outputs": [
    {
     "data": {
      "text/html": [
       "<div>\n",
       "<style scoped>\n",
       "    .dataframe tbody tr th:only-of-type {\n",
       "        vertical-align: middle;\n",
       "    }\n",
       "\n",
       "    .dataframe tbody tr th {\n",
       "        vertical-align: top;\n",
       "    }\n",
       "\n",
       "    .dataframe thead th {\n",
       "        text-align: right;\n",
       "    }\n",
       "</style>\n",
       "<table border=\"1\" class=\"dataframe\">\n",
       "  <thead>\n",
       "    <tr style=\"text-align: right;\">\n",
       "      <th></th>\n",
       "      <th>id</th>\n",
       "      <th>name</th>\n",
       "      <th>type</th>\n",
       "      <th>hit_count</th>\n",
       "    </tr>\n",
       "  </thead>\n",
       "  <tbody>\n",
       "    <tr>\n",
       "      <th>INDICATION$D003424</th>\n",
       "      <td>D003424</td>\n",
       "      <td>Crohn Disease</td>\n",
       "      <td>INDICATION</td>\n",
       "      <td>2084</td>\n",
       "    </tr>\n",
       "    <tr>\n",
       "      <th>INDICATION$D003093</th>\n",
       "      <td>D003093</td>\n",
       "      <td>Colitis, Ulcerative</td>\n",
       "      <td>INDICATION</td>\n",
       "      <td>1509</td>\n",
       "    </tr>\n",
       "    <tr>\n",
       "      <th>INDICATION$D015212</th>\n",
       "      <td>D015212</td>\n",
       "      <td>Inflammatory Bowel Diseases</td>\n",
       "      <td>INDICATION</td>\n",
       "      <td>1000</td>\n",
       "    </tr>\n",
       "    <tr>\n",
       "      <th>INDICATION$D007249</th>\n",
       "      <td>D007249</td>\n",
       "      <td>Inflammation</td>\n",
       "      <td>INDICATION</td>\n",
       "      <td>468</td>\n",
       "    </tr>\n",
       "    <tr>\n",
       "      <th>DRUG$CHEMBL1201581</th>\n",
       "      <td>CHEMBL1201581</td>\n",
       "      <td>TA-650</td>\n",
       "      <td>DRUG</td>\n",
       "      <td>369</td>\n",
       "    </tr>\n",
       "  </tbody>\n",
       "</table>\n",
       "</div>"
      ],
      "text/plain": [
       "                               id                         name        type  \\\n",
       "INDICATION$D003424        D003424                Crohn Disease  INDICATION   \n",
       "INDICATION$D003093        D003093          Colitis, Ulcerative  INDICATION   \n",
       "INDICATION$D015212        D015212  Inflammatory Bowel Diseases  INDICATION   \n",
       "INDICATION$D007249        D007249                 Inflammation  INDICATION   \n",
       "DRUG$CHEMBL1201581  CHEMBL1201581                       TA-650        DRUG   \n",
       "\n",
       "                   hit_count  \n",
       "INDICATION$D003424      2084  \n",
       "INDICATION$D003093      1509  \n",
       "INDICATION$D015212      1000  \n",
       "INDICATION$D007249       468  \n",
       "DRUG$CHEMBL1201581       369  "
      ]
     },
     "execution_count": 16,
     "metadata": {},
     "output_type": "execute_result"
    }
   ],
   "source": [
    "top_hits_df(termite_json_response, selection=5)"
   ]
  }
 ],
 "metadata": {
  "kernelspec": {
   "display_name": "Python 3",
   "language": "python",
   "name": "python3"
  },
  "language_info": {
   "codemirror_mode": {
    "name": "ipython",
    "version": 3
   },
   "file_extension": ".py",
   "mimetype": "text/x-python",
   "name": "python",
   "nbconvert_exporter": "python",
   "pygments_lexer": "ipython3",
   "version": "3.7.1"
  }
 },
 "nbformat": 4,
 "nbformat_minor": 2
}
