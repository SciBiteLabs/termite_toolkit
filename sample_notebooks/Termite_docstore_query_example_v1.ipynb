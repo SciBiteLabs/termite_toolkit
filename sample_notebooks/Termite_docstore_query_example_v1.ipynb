{
 "cells": [
  {
   "cell_type": "markdown",
   "metadata": {},
   "source": [
    "# Using a docstore query as TERmite input"
   ]
  },
  {
   "cell_type": "markdown",
   "metadata": {},
   "source": [
    "This notebook shows how you can use docstore queries as your TERmite input. The advantage of doing this is that you don't need to locally download the require DOCstore content as everything is done on the fly.\n",
    "\n",
    "In this example, the output is annotated HTML content that can be readily downloaded and better visualised in your browser. "
   ]
  },
  {
   "cell_type": "markdown",
   "metadata": {},
   "source": [
    "Import relevant libraries"
   ]
  },
  {
   "cell_type": "code",
   "execution_count": 1,
   "metadata": {},
   "outputs": [],
   "source": [
    "import urllib.parse\n",
    "from termite_toolkit import termite"
   ]
  },
  {
   "cell_type": "markdown",
   "metadata": {},
   "source": [
    "Specify both your docstore and termite home addresses"
   ]
  },
  {
   "cell_type": "code",
   "execution_count": 2,
   "metadata": {},
   "outputs": [],
   "source": [
    "termite_home = 'http://localhost:9090/termite'\n",
    "docstore_home = 'https://example.docstore.com:port'"
   ]
  },
  {
   "cell_type": "markdown",
   "metadata": {},
   "source": [
    "Add docstore credentials if required. (If not, make user ='', password ='')"
   ]
  },
  {
   "cell_type": "code",
   "execution_count": 3,
   "metadata": {},
   "outputs": [],
   "source": [
    "user = ''\n",
    "password = ''"
   ]
  },
  {
   "cell_type": "markdown",
   "metadata": {},
   "source": [
    "# DOCstore query \n",
    "List of entities to be searched separated by a space."
   ]
  },
  {
   "cell_type": "code",
   "execution_count": 4,
   "metadata": {},
   "outputs": [],
   "source": [
    "query = 'id:GENE$BRCA1 AND type:INDICATION'"
   ]
  },
  {
   "cell_type": "markdown",
   "metadata": {},
   "source": [
    "Query options (separated by &)"
   ]
  },
  {
   "cell_type": "code",
   "execution_count": 5,
   "metadata": {},
   "outputs": [],
   "source": [
    "options='limit=10'"
   ]
  },
  {
   "cell_type": "code",
   "execution_count": 6,
   "metadata": {},
   "outputs": [],
   "source": [
    "if user == '':\n",
    "    query_text = '{}/api/ds/v1/search/document/docs/*/*/*/*?fields=*&query={}&{}'.\\\n",
    "    format(docstore_home,urllib.parse.quote(query),options)\n",
    "else:\n",
    "    query_text = 'https://{}:{}@{}/api/ds/v1/search/document/docs/*/*/*/*?fields=*&query={}&{}'.\\\n",
    "    format(user, password,docstore_home.split('//')[1],urllib.parse.quote(query),options)"
   ]
  },
  {
   "cell_type": "markdown",
   "metadata": {},
   "source": [
    "# TERmite call"
   ]
  },
  {
   "cell_type": "markdown",
   "metadata": {},
   "source": [
    "Termite request builder"
   ]
  },
  {
   "cell_type": "code",
   "execution_count": 7,
   "metadata": {},
   "outputs": [],
   "source": [
    "# initialise a request builder\n",
    "t = termite.TermiteRequestBuilder()\n",
    "\n",
    "t.set_url(termite_home)\n",
    "t.set_text(query_text)\n",
    "t.set_input_format(\"docstoreq\")\n",
    "t.set_output_format(\"html\")\n",
    "#Entity types to be annotated\n",
    "t.set_entities('GENE')\n",
    "#Entities to be highlighted\n",
    "t.set_options({'hitFilter':'[GENE:BRCA1]'})\n",
    "\n",
    "\n",
    "# execute the request\n",
    "termite_response = t.execute()"
   ]
  },
  {
   "cell_type": "markdown",
   "metadata": {},
   "source": [
    "Save results as HTML file"
   ]
  },
  {
   "cell_type": "code",
   "execution_count": 8,
   "metadata": {},
   "outputs": [],
   "source": [
    "with open(\"Annotated_hits.html\",\"w\") as html_file:\n",
    "    html_file.write(termite_response)"
   ]
  }
 ],
 "metadata": {
  "kernelspec": {
   "display_name": "Python 3",
   "language": "python",
   "name": "python3"
  },
  "language_info": {
   "codemirror_mode": {
    "name": "ipython",
    "version": 3
   },
   "file_extension": ".py",
   "mimetype": "text/x-python",
   "name": "python",
   "nbconvert_exporter": "python",
   "pygments_lexer": "ipython3",
   "version": "3.7.4"
  }
 },
 "nbformat": 4,
 "nbformat_minor": 2
}
