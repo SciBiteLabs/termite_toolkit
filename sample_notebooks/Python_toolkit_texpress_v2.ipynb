{
 "cells": [
  {
   "cell_type": "markdown",
   "metadata": {},
   "source": [
    "# Python TERMite toolkit - TExpress"
   ]
  },
  {
   "cell_type": "markdown",
   "metadata": {},
   "source": [
    "We provide a Python library for making calls to our NER engine, TERMite, as well as the TExpress module for defining more complex semantic patterns. The library also enables post-processing of the JSON returned from such requests. This notebook assumes that you're read the example TERMite notebook and walks you through how to make a TExpress call and some of the post-processing of the JSON output."
   ]
  },
  {
   "cell_type": "markdown",
   "metadata": {},
   "source": [
    "## Example call to TExpress"
   ]
  },
  {
   "cell_type": "markdown",
   "metadata": {},
   "source": [
    "The toolkit can also be used to make TExpress calls to identify patterns and extract biomedical relationships. Using TExpress with the toolkit is easy: simply ```import texpress``` from the ```termite_toolkit``` and make a call.\n",
    "\n",
    "A simple TExpress call is made up of:\n",
    "* the TERMite API endpoint\n",
    "* the pattern you wish to search for - this can be created in the TERMite UI\n",
    "* a TExpress request\n",
    "* request execution\n",
    "\n",
    "Below is an example TExpress call with the result being printed to the screen."
   ]
  },
  {
   "cell_type": "code",
   "execution_count": 3,
   "metadata": {},
   "outputs": [
    {
     "name": "stdout",
     "output_type": "stream",
     "text": [
      "{'RESP_META': {'CONID': '127.0.0.1/68',\n",
      "               'HTTP_CODE': '200',\n",
      "               'INPUT_SIZE': 65,\n",
      "               'JSON_PRODUCER': 'EFFICIENT',\n",
      "               'REQID': 'd70829d1-bc8f-44ce-a2ee-39a19321a43a-12497',\n",
      "               'RUNTIME_OPTIONS': {'_termitesys.exetermite': 'false',\n",
      "                                   '_termitesys.exetexpress': 'true',\n",
      "                                   'alwaysAdd': 'false',\n",
      "                                   'reverse': 'true',\n",
      "                                   'texpressAny': 'DBSNP,DRUG,INDICATION,PROTYP,BIOPROC,ANAT,CELLLINE,CELLTYP,COMPANY,BIOCHEM,LABPROC,GENE,GOONTOL,CLINPROC,HPO,ADVENT,DRUGTYP,TECH,PKPD,SBIO,CHEMREC,CHEMMETH,SPMF,DEVICE,MIRNA,MPATH,CLINMES,MDRACUTEAE,MDRACUTEAE,CLINMES,MDRAELLY',\n",
      "                                   'tx.ambig': 'false'},\n",
      "               'TERMITE_RUNTIME': 'default',\n",
      "               'TERMITE_VERS': '6.3.17',\n",
      "               'Timing_msec_TOTAL': '60'},\n",
      " 'RESP_PAYLOAD': {},\n",
      " 'RESP_TEXPRESS': {'Termite_Doc_d70829d1-bc8f-44ce-a2ee-39a19321a43a-12499': {'USR_3': [{'charOffset': 0,\n",
      "                                                                                         'entityNames': {'GENE#CSF1': 'colony '\n",
      "                                                                                                                      'stimulating '\n",
      "                                                                                                                      'factor '\n",
      "                                                                                                                      '1',\n",
      "                                                                                                         'INDICATION#D007251': 'Influenza, '\n",
      "                                                                                                                               'Human'},\n",
      "                                                                                         'foundEntities': ['GENE#CSF1',\n",
      "                                                                                                           'INDICATION#D007251'],\n",
      "                                                                                         'foundEntityTypes': ['GENE',\n",
      "                                                                                                              'INDICATION'],\n",
      "                                                                                         'hitsRemoved': False,\n",
      "                                                                                         'matches': [{'conf': 3,\n",
      "                                                                                                      'end': 6,\n",
      "                                                                                                      'forward': False,\n",
      "                                                                                                      'matchEntities': ['GENE#CSF1',\n",
      "                                                                                                                        'INDICATION#D007251'],\n",
      "                                                                                                      'negative': False,\n",
      "                                                                                                      'originalFragment': 'macrophage '\n",
      "                                                                                                                          'colony '\n",
      "                                                                                                                          'stimulating '\n",
      "                                                                                                                          'factor '\n",
      "                                                                                                                          'influenza',\n",
      "                                                                                                      'originalFragmentEnd': 65,\n",
      "                                                                                                      'originalFragmentStart': 19,\n",
      "                                                                                                      'pattern_expression': ':(GENE):{0,5}:(INDICATION)',\n",
      "                                                                                                      'pattern_id': 'USR_3[R]',\n",
      "                                                                                                      'pseudoAnnotatedHit': '{GENE#CSF1}macrophage '\n",
      "                                                                                                                            '_colony '\n",
      "                                                                                                                            '_stimulating '\n",
      "                                                                                                                            '_factor '\n",
      "                                                                                                                            '{INDICATION#D007251}influenza',\n",
      "                                                                                                      'sentence': 1,\n",
      "                                                                                                      'start': 2,\n",
      "                                                                                                      'subsumed': False,\n",
      "                                                                                                      'vdirection': 0}],\n",
      "                                                                                         'modelString': 'sildenafil '\n",
      "                                                                                                        'citrate '\n",
      "                                                                                                        'ENTITY{GENE#CSF1}[macrophage] '\n",
      "                                                                                                        'CONTINUATION[colony] '\n",
      "                                                                                                        'CONTINUATION[stimulating] '\n",
      "                                                                                                        'CONTINUATION[factor] '\n",
      "                                                                                                        'ENTITY{INDICATION#D007251}[influenza] ',\n",
      "                                                                                         'negCount': 0,\n",
      "                                                                                         'originalSentence': 'sildenafil '\n",
      "                                                                                                             'citrate '\n",
      "                                                                                                             'macrophage '\n",
      "                                                                                                             'colony '\n",
      "                                                                                                             'stimulating '\n",
      "                                                                                                             'factor '\n",
      "                                                                                                             'influenza',\n",
      "                                                                                         'pseudoAnnotatedArray': ['sildenafil',\n",
      "                                                                                                                  'citrate',\n",
      "                                                                                                                  '{GENE#CSF1}macrophage',\n",
      "                                                                                                                  '_colony',\n",
      "                                                                                                                  '_stimulating',\n",
      "                                                                                                                  '_factor',\n",
      "                                                                                                                  '{INDICATION#D007251}influenza'],\n",
      "                                                                                         'sectionCharOffset': 0,\n",
      "                                                                                         'sectionNumber': 0,\n",
      "                                                                                         'sentenceIndex': 1,\n",
      "                                                                                         'sentenceSectionOffset': 0,\n",
      "                                                                                         'wordArray': ['sildenafil',\n",
      "                                                                                                       'citrate',\n",
      "                                                                                                       'macrophage',\n",
      "                                                                                                       'colony',\n",
      "                                                                                                       'stimulating',\n",
      "                                                                                                       'factor',\n",
      "                                                                                                       'influenza']}]}},\n",
      " 'RESP_WARNINGS': None}\n"
     ]
    }
   ],
   "source": [
    "from pprint import pprint\n",
    "from termite_toolkit import texpress\n",
    "\n",
    "# specify termite API endpoint\n",
    "termite_home = \"http://localhost:9090/termite\"\n",
    "\n",
    "# specify the pattern you wish to search for- this can created in the TERMite UI\n",
    "pattern = \":(INDICATION):{0,5}:(GENE)\"\n",
    "\n",
    "t = texpress.TexpressRequestBuilder()\n",
    "\n",
    "# individually add items to your TERMite request\n",
    "t.set_url(termite_home)\n",
    "t.set_text(\"sildenafil citrate macrophage colony stimulating factor influenza\")\n",
    "t.set_subsume(True)\n",
    "t.set_input_format(\"txt\")\n",
    "t.set_output_format(\"json\")\n",
    "t.set_allow_ambiguous(False)\n",
    "t.set_pattern(pattern)\n",
    "\n",
    "# execute the request\n",
    "texpress_response = t.execute(display_request=False)\n",
    "\n",
    "pprint(texpress_response)"
   ]
  },
  {
   "cell_type": "markdown",
   "metadata": {},
   "source": [
    "For more information on the TExpress JSON results [click here](https://help.scibite.com/a/solutions/articles/4000021813-anatomy-of-a-texpress-result-server-)."
   ]
  },
  {
   "cell_type": "markdown",
   "metadata": {},
   "source": [
    "Like TERMite, TExpress calls can be simplified to call options and annotation:\n"
   ]
  },
  {
   "cell_type": "code",
   "execution_count": 6,
   "metadata": {},
   "outputs": [],
   "source": [
    "from pprint import pprint\n",
    "from termite_toolkit import texpress\n",
    "import sys\n",
    "import os\n",
    "\n",
    "termite_home = \"http://localhost:9090/termite\"\n",
    "parentDir = os.path.dirname(os.path.dirname(os.path.abspath(\"__file__\")))  # this line relatively locates the parent directory\n",
    "input_file = os.path.join(parentDir, 'sample_scripts/medline_sample.zip')\n",
    "options = {\"format\": \"medline.xml\", \"output\": \"json\", \"pattern\": \":(INDICATION):{0,5}:(GENE)\",\n",
    "           \"opts\"  : \"reverse=false\"}\n",
    "\n",
    "texpress_json_response = texpress.annotate_files(termite_home, input_file, options)"
   ]
  },
  {
   "cell_type": "markdown",
   "metadata": {},
   "source": [
    "# TExpress toolkit library"
   ]
  },
  {
   "cell_type": "markdown",
   "metadata": {},
   "source": [
    "The standard JSON output isn't very human friendly, so we've added functionality for parsing the JSON and doc.JSONx outputs. The output can be returned as either a dictionary object or as a pandas dataframe."
   ]
  },
  {
   "cell_type": "code",
   "execution_count": 12,
   "metadata": {},
   "outputs": [
    {
     "data": {
      "text/plain": [
       "{'USR_3[R]': [{'doc_id': 'Termite_Doc_d70829d1-bc8f-44ce-a2ee-39a19321a43a-10967',\n",
       "   'entities': ['GENE#CSF1#colony stimulating factor 1',\n",
       "    'INDICATION#D007251#Influenza, Human'],\n",
       "   'original_fragment': 'macrophage colony stimulating factor influenza',\n",
       "   'conf': 3}]}"
      ]
     },
     "execution_count": 12,
     "metadata": {},
     "output_type": "execute_result"
    }
   ],
   "source": [
    "texpress.get_entity_hits_from_json(texpress_response)"
   ]
  },
  {
   "cell_type": "code",
   "execution_count": 8,
   "metadata": {},
   "outputs": [
    {
     "data": {
      "text/html": [
       "<div>\n",
       "<style scoped>\n",
       "    .dataframe tbody tr th:only-of-type {\n",
       "        vertical-align: middle;\n",
       "    }\n",
       "\n",
       "    .dataframe tbody tr th {\n",
       "        vertical-align: top;\n",
       "    }\n",
       "\n",
       "    .dataframe thead th {\n",
       "        text-align: right;\n",
       "    }\n",
       "</style>\n",
       "<table border=\"1\" class=\"dataframe\">\n",
       "  <thead>\n",
       "    <tr style=\"text-align: right;\">\n",
       "      <th></th>\n",
       "      <th>docID</th>\n",
       "      <th>patternID</th>\n",
       "      <th>originalFragment</th>\n",
       "      <th>matchEntities</th>\n",
       "      <th>originalSentence</th>\n",
       "      <th>sentence</th>\n",
       "      <th>subsumed</th>\n",
       "    </tr>\n",
       "  </thead>\n",
       "  <tbody>\n",
       "    <tr>\n",
       "      <th>0</th>\n",
       "      <td>25805890</td>\n",
       "      <td>USR_4</td>\n",
       "      <td>NOD2 and ATG16L1 mutations, 5 ulcerative colit...</td>\n",
       "      <td>[GENE#NOD2, GENE#ATG16L1, INDICATION#D003093]</td>\n",
       "      <td>Peripheral blood MDM were obtained from 24 CD ...</td>\n",
       "      <td>3</td>\n",
       "      <td>False</td>\n",
       "    </tr>\n",
       "    <tr>\n",
       "      <th>1</th>\n",
       "      <td>26520163</td>\n",
       "      <td>USR_4</td>\n",
       "      <td>anti-tumour necrosis factor alpha [TNFα</td>\n",
       "      <td>[INDICATION#D002277, GENE#TNF]</td>\n",
       "      <td>Most clinical trial data indicate that the ris...</td>\n",
       "      <td>7</td>\n",
       "      <td>False</td>\n",
       "    </tr>\n",
       "    <tr>\n",
       "      <th>2</th>\n",
       "      <td>24793818</td>\n",
       "      <td>USR_4</td>\n",
       "      <td>KV1.3 potassium channel correlates with pro-in...</td>\n",
       "      <td>[GENE#KCNA3, INDICATION#D007249]</td>\n",
       "      <td>Expression of T-cell KV1.3 potassium channel c...</td>\n",
       "      <td>0</td>\n",
       "      <td>False</td>\n",
       "    </tr>\n",
       "    <tr>\n",
       "      <th>3</th>\n",
       "      <td>24793818</td>\n",
       "      <td>USR_4</td>\n",
       "      <td>KV1.3 and KCa3.1 in the inflamed mucosa</td>\n",
       "      <td>[GENE#KCNA3, GENE#KCNN4, INDICATION#D052016]</td>\n",
       "      <td>It is unknown if KV1.3 and KCa3.1 in the infla...</td>\n",
       "      <td>3</td>\n",
       "      <td>False</td>\n",
       "    </tr>\n",
       "    <tr>\n",
       "      <th>4</th>\n",
       "      <td>24793818</td>\n",
       "      <td>USR_4</td>\n",
       "      <td>KV1.3 and KCa3.1, immune cell markers, and pro...</td>\n",
       "      <td>[GENE#KCNA3, GENE#KCNN4, INDICATION#D007249]</td>\n",
       "      <td>Protein and mRNA expression of KV1.3 and KCa3....</td>\n",
       "      <td>6</td>\n",
       "      <td>False</td>\n",
       "    </tr>\n",
       "  </tbody>\n",
       "</table>\n",
       "</div>"
      ],
      "text/plain": [
       "      docID patternID                                   originalFragment  \\\n",
       "0  25805890     USR_4  NOD2 and ATG16L1 mutations, 5 ulcerative colit...   \n",
       "1  26520163     USR_4            anti-tumour necrosis factor alpha [TNFα   \n",
       "2  24793818     USR_4  KV1.3 potassium channel correlates with pro-in...   \n",
       "3  24793818     USR_4            KV1.3 and KCa3.1 in the inflamed mucosa   \n",
       "4  24793818     USR_4  KV1.3 and KCa3.1, immune cell markers, and pro...   \n",
       "\n",
       "                                   matchEntities  \\\n",
       "0  [GENE#NOD2, GENE#ATG16L1, INDICATION#D003093]   \n",
       "1                 [INDICATION#D002277, GENE#TNF]   \n",
       "2               [GENE#KCNA3, INDICATION#D007249]   \n",
       "3   [GENE#KCNA3, GENE#KCNN4, INDICATION#D052016]   \n",
       "4   [GENE#KCNA3, GENE#KCNN4, INDICATION#D007249]   \n",
       "\n",
       "                                    originalSentence  sentence  subsumed  \n",
       "0  Peripheral blood MDM were obtained from 24 CD ...         3     False  \n",
       "1  Most clinical trial data indicate that the ris...         7     False  \n",
       "2  Expression of T-cell KV1.3 potassium channel c...         0     False  \n",
       "3  It is unknown if KV1.3 and KCa3.1 in the infla...         3     False  \n",
       "4  Protein and mRNA expression of KV1.3 and KCa3....         6     False  "
      ]
     },
     "execution_count": 8,
     "metadata": {},
     "output_type": "execute_result"
    }
   ],
   "source": [
    "texpress.get_texpress_dataframe(texpress_json_response).head()"
   ]
  }
 ],
 "metadata": {
  "kernelspec": {
   "display_name": "Python 3",
   "language": "python",
   "name": "python3"
  },
  "language_info": {
   "codemirror_mode": {
    "name": "ipython",
    "version": 3
   },
   "file_extension": ".py",
   "mimetype": "text/x-python",
   "name": "python",
   "nbconvert_exporter": "python",
   "pygments_lexer": "ipython3",
   "version": "3.7.1"
  }
 },
 "nbformat": 4,
 "nbformat_minor": 2
}
