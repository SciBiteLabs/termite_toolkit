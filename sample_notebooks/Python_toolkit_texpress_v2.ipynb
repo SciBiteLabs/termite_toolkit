{
 "cells": [
  {
   "cell_type": "markdown",
   "metadata": {},
   "source": [
    "# Python TERMite toolkit - TExpress"
   ]
  },
  {
   "cell_type": "markdown",
   "metadata": {},
   "source": [
    "We provide a Python library for making calls to our NER engine, TERMite, as well as the TExpress module for defining more complex semantic patterns. The library also enables post-processing of the JSON returned from such requests. This notebook assumes that you're read the example TERMite notebook and walks you through how to make a TExpress call and some of the post-processing of the JSON output."
   ]
  },
  {
   "cell_type": "markdown",
   "metadata": {},
   "source": [
    "## Example call to TExpress"
   ]
  },
  {
   "cell_type": "markdown",
   "metadata": {},
   "source": [
    "The toolkit can also be used to make TExpress calls to identify patterns and extract biomedical relationships. Using TExpress with the toolkit is easy: simply ```import texpress``` from the ```termite_toolkit``` and make a call.\n",
    "\n",
    "A simple TExpress call is made up of:\n",
    "* the TERMite API endpoint\n",
    "* the pattern you wish to search for - this can be created in the TERMite UI\n",
    "* a TExpress request\n",
    "* request execution\n",
    "\n",
    "Below is an example TExpress call with the result being printed to the screen."
   ]
  },
  {
   "cell_type": "code",
   "execution_count": null,
   "metadata": {},
   "outputs": [],
   "source": [
    "from pprint import pprint\n",
    "from termite_toolkit import texpress\n",
    "\n",
    "# specify termite API endpoint\n",
    "termite_home = \"http://localhost:9090/termite\"\n",
    "\n",
    "# specify the pattern you wish to search for- this can created in the TERMite UI\n",
    "pattern = \":(INDICATION):{0,5}:(GENE)\"\n",
    "\n",
    "t = texpress.TexpressRequestBuilder()\n",
    "\n",
    "# individually add items to your TERMite request\n",
    "t.set_url(termite_home)\n",
    "t.set_text(\"sildenafil citrate macrophage colony stimulating factor influenza\")\n",
    "t.set_subsume(True)\n",
    "t.set_input_format(\"txt\")\n",
    "t.set_output_format(\"json\")\n",
    "t.set_allow_ambiguous(False)\n",
    "t.set_pattern(pattern)\n",
    "\n",
    "# execute the request\n",
    "texpress_response = t.execute(display_request=False)\n",
    "\n",
    "pprint(texpress_response, depth=2, compact=True, width=100)"
   ]
  },
  {
   "cell_type": "markdown",
   "metadata": {},
   "source": [
    "For more information on the TExpress JSON results [click here](https://help.scibite.com/a/solutions/articles/4000021813-anatomy-of-a-texpress-result-server-)."
   ]
  },
  {
   "cell_type": "markdown",
   "metadata": {},
   "source": [
    "Like TERMite, TExpress calls can be simplified to call options and annotation:\n"
   ]
  },
  {
   "cell_type": "code",
   "execution_count": null,
   "metadata": {},
   "outputs": [],
   "source": [
    "from pprint import pprint\n",
    "from termite_toolkit import texpress\n",
    "import sys\n",
    "import os\n",
    "\n",
    "termite_home = \"http://localhost:9090/termite\"\n",
    "parentDir = os.path.dirname(os.path.dirname(os.path.abspath(\"__file__\")))  # this line relatively locates the parent directory\n",
    "input_file = os.path.join(parentDir, 'sample_scripts/medline_sample.zip')\n",
    "options = {\"format\": \"medline.xml\", \"output\": \"json\", \"pattern\": \":(INDICATION):{0,5}:(GENE)\",\n",
    "           \"opts\"  : \"reverse=false\"}\n",
    "\n",
    "texpress_json_response = texpress.annotate_files(termite_home, input_file, options)"
   ]
  },
  {
   "cell_type": "markdown",
   "metadata": {},
   "source": [
    "# TExpress toolkit library"
   ]
  },
  {
   "cell_type": "markdown",
   "metadata": {},
   "source": [
    "The standard JSON output isn't very human friendly, so we've added functionality for parsing the JSON and doc.JSONx outputs. The output can be returned as either a dictionary object or as a pandas dataframe."
   ]
  },
  {
   "cell_type": "code",
   "execution_count": null,
   "metadata": {},
   "outputs": [],
   "source": [
    "pprint(texpress.get_entity_hits_from_json(texpress_response))"
   ]
  },
  {
   "cell_type": "code",
   "execution_count": null,
   "metadata": {},
   "outputs": [],
   "source": [
    "texpress.get_texpress_dataframe(texpress_json_response).head()"
   ]
  },
  {
   "cell_type": "code",
   "execution_count": null,
   "metadata": {},
   "outputs": [],
   "source": []
  }
 ],
 "metadata": {
  "kernelspec": {
   "display_name": "Python 3",
   "language": "python",
   "name": "python3"
  },
  "language_info": {
   "codemirror_mode": {
    "name": "ipython",
    "version": 3
   },
   "file_extension": ".py",
   "mimetype": "text/x-python",
   "name": "python",
   "nbconvert_exporter": "python",
   "pygments_lexer": "ipython3",
   "version": "3.7.4"
  }
 },
 "nbformat": 4,
 "nbformat_minor": 2
}
