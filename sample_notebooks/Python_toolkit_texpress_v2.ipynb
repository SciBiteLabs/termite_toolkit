{
 "cells": [
  {
   "cell_type": "markdown",
   "metadata": {},
   "source": [
    "# Python TERMite toolkit - TExpress"
   ]
  },
  {
   "cell_type": "markdown",
   "metadata": {},
   "source": [
    "We provide a Python library for making calls to our NER engine, TERMite, as well as the TExpress module for defining more complex semantic patterns. The library also enables post-processing of the JSON returned from such requests. This notebook assumes that you're read the example TERMite notebook and walks you through how to make a TExpress call and some of the post-processing of the JSON output."
   ]
  },
  {
   "cell_type": "markdown",
   "metadata": {},
   "source": [
    "## Example call to TExpress"
   ]
  },
  {
   "cell_type": "markdown",
   "metadata": {},
   "source": [
    "The toolkit can also be used to make TExpress calls to identify patterns and extract biomedical relationships. Using TExpress with the toolkit is easy: simply ```import texpress``` from the ```termite_toolkit``` and make a call.\n",
    "\n",
    "A simple TExpress call is made up of:\n",
    "* the TERMite API endpoint\n",
    "* the pattern you wish to search for - this can be created in the TERMite UI\n",
    "* a TExpress request\n",
    "* request execution\n",
    "\n",
    "Below is an example TExpress call with the result being printed to the screen."
   ]
  },
  {
   "cell_type": "code",
   "execution_count": 1,
   "metadata": {},
   "outputs": [
    {
     "name": "stdout",
     "output_type": "stream",
     "text": [
      "{'RESP_META': {'CONID': '0:0:0:0:0:0:0:1/98',\n",
      "               'HTTP_CODE': '200',\n",
      "               'INPUT_SIZE': 65,\n",
      "               'REQID': 'c7e140a4-c606-4cce-b117-3048565ce9e9-3120',\n",
      "               'RUNTIME_OPTIONS': {...},\n",
      "               'TERMITE_RUNTIME': 'default',\n",
      "               'TERMITE_VERS': '6.4.9',\n",
      "               'Timing_msec_TOTAL': '1',\n",
      "               '_READY_FORMATTED_WITH': 'com.scibite.termitej.formatter.streamers.JsonStreamFormatter'},\n",
      " 'RESP_MULTIDOC_PAYLOAD': {},\n",
      " 'RESP_TEXPRESS': {'_document': {...}},\n",
      " 'RESP_WORKFLOW': {}}\n"
     ]
    }
   ],
   "source": [
    "from pprint import pprint\n",
    "from termite_toolkit import texpress\n",
    "\n",
    "# specify termite API endpoint\n",
    "termite_home = \"http://localhost:9090/termite\"\n",
    "\n",
    "# specify the pattern you wish to search for- this can created in the TERMite UI\n",
    "pattern = \":(INDICATION):{0,5}:(GENE)\"\n",
    "\n",
    "t = texpress.TexpressRequestBuilder()\n",
    "\n",
    "# individually add items to your TERMite request\n",
    "t.set_url(termite_home)\n",
    "t.set_text(\"sildenafil citrate macrophage colony stimulating factor influenza\")\n",
    "t.set_subsume(True)\n",
    "t.set_input_format(\"txt\")\n",
    "t.set_output_format(\"json\")\n",
    "t.set_allow_ambiguous(False)\n",
    "t.set_pattern(pattern)\n",
    "\n",
    "# execute the request\n",
    "texpress_response = t.execute(display_request=False)\n",
    "\n",
    "pprint(texpress_response, depth=2, compact=True, width=100)"
   ]
  },
  {
   "cell_type": "markdown",
   "metadata": {},
   "source": [
    "For more information on the TExpress JSON results [click here](https://help.scibite.com/a/solutions/articles/4000021813-anatomy-of-a-texpress-result-server-)."
   ]
  },
  {
   "cell_type": "markdown",
   "metadata": {},
   "source": [
    "Like TERMite, TExpress calls can be simplified to call options and annotation:\n"
   ]
  },
  {
   "cell_type": "code",
   "execution_count": 3,
   "metadata": {},
   "outputs": [],
   "source": [
    "from pprint import pprint\n",
    "from termite_toolkit import texpress\n",
    "import sys\n",
    "import os\n",
    "\n",
    "termite_home = \"http://localhost:9090/termite\"\n",
    "parentDir = os.path.dirname(os.path.dirname(os.path.abspath(\"__file__\")))  # this line relatively locates the parent directory\n",
    "input_file = os.path.join(parentDir, 'sample_scripts/medline_sample.zip')\n",
    "options = {\"format\": \"medline.xml\", \"output\": \"json\", \"pattern\": \":(INDICATION):{0,5}:(GENE)\",\n",
    "           \"opts\"  : \"reverse=false\"}\n",
    "\n",
    "texpress_json_response = texpress.annotate_files(termite_home, input_file, options)"
   ]
  },
  {
   "cell_type": "markdown",
   "metadata": {},
   "source": [
    "# TExpress toolkit library"
   ]
  },
  {
   "cell_type": "markdown",
   "metadata": {},
   "source": [
    "The standard JSON output isn't very human friendly, so we've added functionality for parsing the JSON and doc.JSONx outputs. The output can be returned as either a dictionary object or as a pandas dataframe."
   ]
  },
  {
   "cell_type": "code",
   "execution_count": 4,
   "metadata": {},
   "outputs": [
    {
     "name": "stdout",
     "output_type": "stream",
     "text": [
      "{'USR_1[R]': [{'conf': 3,\n",
      "               'doc_id': '_document',\n",
      "               'entities': ['GENE#CSF1#colony stimulating factor 1',\n",
      "                            'INDICATION#D007251#Influenza, Human'],\n",
      "               'original_fragment': 'macrophage colony stimulating factor '\n",
      "                                    'influenza'}]}\n"
     ]
    }
   ],
   "source": [
    "pprint(texpress.get_entity_hits_from_json(texpress_response))"
   ]
  },
  {
   "cell_type": "code",
   "execution_count": 6,
   "metadata": {},
   "outputs": [
    {
     "data": {
      "text/html": [
       "<div>\n",
       "<style scoped>\n",
       "    .dataframe tbody tr th:only-of-type {\n",
       "        vertical-align: middle;\n",
       "    }\n",
       "\n",
       "    .dataframe tbody tr th {\n",
       "        vertical-align: top;\n",
       "    }\n",
       "\n",
       "    .dataframe thead th {\n",
       "        text-align: right;\n",
       "    }\n",
       "</style>\n",
       "<table border=\"1\" class=\"dataframe\">\n",
       "  <thead>\n",
       "    <tr style=\"text-align: right;\">\n",
       "      <th></th>\n",
       "      <th>docID</th>\n",
       "      <th>patternID</th>\n",
       "      <th>originalFragment</th>\n",
       "      <th>matchEntities</th>\n",
       "      <th>originalSentence</th>\n",
       "      <th>sentence</th>\n",
       "      <th>subsumed</th>\n",
       "    </tr>\n",
       "  </thead>\n",
       "  <tbody>\n",
       "    <tr>\n",
       "      <td>0</td>\n",
       "      <td>26351389</td>\n",
       "      <td>USR_2</td>\n",
       "      <td>inflammatory response measured by C-reactive p...</td>\n",
       "      <td>[INDICATION#D007249, GENE#CRP]</td>\n",
       "      <td>This retrospective study aims to compare the i...</td>\n",
       "      <td>2</td>\n",
       "      <td>False</td>\n",
       "    </tr>\n",
       "    <tr>\n",
       "      <td>1</td>\n",
       "      <td>26351387</td>\n",
       "      <td>USR_2</td>\n",
       "      <td>factor (p = 0.029), especially in Crohn's disease</td>\n",
       "      <td>[GENE#CFP, INDICATION#D003424]</td>\n",
       "      <td>Only smoking was identified as a risk factor (...</td>\n",
       "      <td>15</td>\n",
       "      <td>False</td>\n",
       "    </tr>\n",
       "    <tr>\n",
       "      <td>2</td>\n",
       "      <td>26351381</td>\n",
       "      <td>USR_2</td>\n",
       "      <td>inflammatory bowel disease, NGAL-MMP-9</td>\n",
       "      <td>[INDICATION#D015212, GENE#MMP9]</td>\n",
       "      <td>In the search for surrogate markers to assess ...</td>\n",
       "      <td>10</td>\n",
       "      <td>False</td>\n",
       "    </tr>\n",
       "    <tr>\n",
       "      <td>3</td>\n",
       "      <td>26351381</td>\n",
       "      <td>USR_2</td>\n",
       "      <td>MMP-9 supplements and outperforms CRP in both ...</td>\n",
       "      <td>[GENE#MMP9, GENE#CRP, INDICATION#D003093]</td>\n",
       "      <td>In the search for surrogate markers to assess ...</td>\n",
       "      <td>10</td>\n",
       "      <td>False</td>\n",
       "    </tr>\n",
       "    <tr>\n",
       "      <td>4</td>\n",
       "      <td>26609182</td>\n",
       "      <td>USR_2</td>\n",
       "      <td>CXCL8 SPECT to monitor disease activity in inf...</td>\n",
       "      <td>[GENE#CXCL8, INDICATION#D015212]</td>\n",
       "      <td>Tc-99m-CXCL8 SPECT to monitor disease activity...</td>\n",
       "      <td>0</td>\n",
       "      <td>False</td>\n",
       "    </tr>\n",
       "  </tbody>\n",
       "</table>\n",
       "</div>"
      ],
      "text/plain": [
       "      docID patternID                                   originalFragment  \\\n",
       "0  26351389     USR_2  inflammatory response measured by C-reactive p...   \n",
       "1  26351387     USR_2  factor (p = 0.029), especially in Crohn's disease   \n",
       "2  26351381     USR_2             inflammatory bowel disease, NGAL-MMP-9   \n",
       "3  26351381     USR_2  MMP-9 supplements and outperforms CRP in both ...   \n",
       "4  26609182     USR_2  CXCL8 SPECT to monitor disease activity in inf...   \n",
       "\n",
       "                               matchEntities  \\\n",
       "0             [INDICATION#D007249, GENE#CRP]   \n",
       "1             [GENE#CFP, INDICATION#D003424]   \n",
       "2            [INDICATION#D015212, GENE#MMP9]   \n",
       "3  [GENE#MMP9, GENE#CRP, INDICATION#D003093]   \n",
       "4           [GENE#CXCL8, INDICATION#D015212]   \n",
       "\n",
       "                                    originalSentence  sentence  subsumed  \n",
       "0  This retrospective study aims to compare the i...         2     False  \n",
       "1  Only smoking was identified as a risk factor (...        15     False  \n",
       "2  In the search for surrogate markers to assess ...        10     False  \n",
       "3  In the search for surrogate markers to assess ...        10     False  \n",
       "4  Tc-99m-CXCL8 SPECT to monitor disease activity...         0     False  "
      ]
     },
     "execution_count": 6,
     "metadata": {},
     "output_type": "execute_result"
    }
   ],
   "source": [
    "texpress.get_texpress_dataframe(texpress_json_response).head()"
   ]
  },
  {
   "cell_type": "code",
   "execution_count": null,
   "metadata": {},
   "outputs": [],
   "source": []
  }
 ],
 "metadata": {
  "kernelspec": {
   "display_name": "Python 3",
   "language": "python",
   "name": "python3"
  },
  "language_info": {
   "codemirror_mode": {
    "name": "ipython",
    "version": 3
   },
   "file_extension": ".py",
   "mimetype": "text/x-python",
   "name": "python",
   "nbconvert_exporter": "python",
   "pygments_lexer": "ipython3",
   "version": "3.7.4"
  }
 },
 "nbformat": 4,
 "nbformat_minor": 2
}
